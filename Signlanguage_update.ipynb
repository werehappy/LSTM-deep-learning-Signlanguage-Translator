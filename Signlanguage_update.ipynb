{
 "cells": [
  {
   "cell_type": "code",
   "execution_count": 2,
   "id": "a38bd8ee",
   "metadata": {},
   "outputs": [],
   "source": [
    "import cv2\n",
    "import numpy as np\n",
    "import os\n",
    "from matplotlib import pyplot as plt\n",
    "import time\n",
    "import mediapipe as mp\n",
    "from xlrd import open_workbook\n",
    "from sklearn.model_selection import train_test_split\n",
    "from tensorflow.keras.utils import to_categorical\n",
    "import csv\n",
    "from sklearn.model_selection import train_test_split\n",
    "from sklearn.pipeline import make_pipeline \n",
    "from sklearn.preprocessing import StandardScaler \n",
    "from sklearn.linear_model import LogisticRegression, RidgeClassifier\n",
    "from sklearn.ensemble import RandomForestClassifier, GradientBoostingClassifier\n",
    "from sklearn.metrics import accuracy_score # Accuracy metrics "
   ]
  },
  {
   "cell_type": "markdown",
   "id": "13d59a13",
   "metadata": {},
   "source": [
    "# Functions for Mediapipe and Extracting Keypoints"
   ]
  },
  {
   "cell_type": "code",
   "execution_count": 3,
   "id": "7b9be98d",
   "metadata": {},
   "outputs": [],
   "source": [
    "mp_holistic = mp.solutions.holistic # Holistic model\n",
    "mp_drawing = mp.solutions.drawing_utils # Drawing utilities\n",
    "\n",
    "def mediapipe_detection(image, model):\n",
    "    image = cv2.cvtColor(image, cv2.COLOR_BGR2RGB) # COLOR CONVERSION BGR 2 RGB\n",
    "    image.flags.writeable = False                  # Image is no longer writeable\n",
    "    results = model.process(image)                 # Make prediction\n",
    "    image.flags.writeable = True                   # Image is now writeable \n",
    "    image = cv2.cvtColor(image, cv2.COLOR_RGB2BGR) # COLOR COVERSION RGB 2 BGR\n",
    "    return image, results\n",
    "\n",
    "def draw_landmarks(image, results):\n",
    "    mp_drawing.draw_landmarks(image, results.face_landmarks, mp_holistic.FACEMESH_TESSELATION) # Draw face connections\n",
    "    mp_drawing.draw_landmarks(image, results.pose_landmarks, mp_holistic.POSE_CONNECTIONS) # Draw pose connections\n",
    "    mp_drawing.draw_landmarks(image, results.left_hand_landmarks, mp_holistic.HAND_CONNECTIONS) # Draw left hand connections\n",
    "    mp_drawing.draw_landmarks(image, results.right_hand_landmarks, mp_holistic.HAND_CONNECTIONS) # Draw right hand connections\n",
    "    \n",
    "def draw_styled_landmarks(image, results):\n",
    "    # Draw face connections\n",
    "    mp_drawing.draw_landmarks(image, results.face_landmarks, mp_holistic.FACEMESH_TESSELATION, \n",
    "                             mp_drawing.DrawingSpec(color=(80,110,10), thickness=1, circle_radius=1), \n",
    "                             mp_drawing.DrawingSpec(color=(80,256,121), thickness=1, circle_radius=1)\n",
    "                             ) \n",
    "    # Draw pose connections\n",
    "    mp_drawing.draw_landmarks(image, results.pose_landmarks, mp_holistic.POSE_CONNECTIONS,\n",
    "                             mp_drawing.DrawingSpec(color=(80,22,10), thickness=2, circle_radius=4), \n",
    "                             mp_drawing.DrawingSpec(color=(80,44,121), thickness=2, circle_radius=2)\n",
    "                             ) \n",
    "    # Draw left hand connections\n",
    "    mp_drawing.draw_landmarks(image, results.left_hand_landmarks, mp_holistic.HAND_CONNECTIONS, \n",
    "                             mp_drawing.DrawingSpec(color=(121,22,76), thickness=2, circle_radius=4), \n",
    "                             mp_drawing.DrawingSpec(color=(121,44,250), thickness=2, circle_radius=2)\n",
    "                             ) \n",
    "    # Draw right hand connections  \n",
    "    mp_drawing.draw_landmarks(image, results.right_hand_landmarks, mp_holistic.HAND_CONNECTIONS, \n",
    "                             mp_drawing.DrawingSpec(color=(245,117,66), thickness=2, circle_radius=4), \n",
    "                             mp_drawing.DrawingSpec(color=(245,66,230), thickness=2, circle_radius=2)\n",
    "                             ) \n",
    "    \n",
    "def extract_keypoints(results):\n",
    "    pose = np.array([[res.x, res.y, res.z, res.visibility] for res in results.pose_landmarks.landmark]).flatten() if results.pose_landmarks else np.zeros(33*4)\n",
    "    face = np.array([[res.x, res.y, res.z] for res in results.face_landmarks.landmark]).flatten() if results.face_landmarks else np.zeros(468*3)\n",
    "    lh = np.array([[res.x, res.y, res.z] for res in results.left_hand_landmarks.landmark]).flatten() if results.left_hand_landmarks else np.zeros(21*3)\n",
    "    rh = np.array([[res.x, res.y, res.z] for res in results.right_hand_landmarks.landmark]).flatten() if results.right_hand_landmarks else np.zeros(21*3)\n",
    "    return np.concatenate([pose, face, lh, rh])"
   ]
  },
  {
   "cell_type": "markdown",
   "id": "7a7eaf89",
   "metadata": {},
   "source": [
    "# Extract Keypoint Values"
   ]
  },
  {
   "cell_type": "code",
   "execution_count": 4,
   "id": "43902e2c",
   "metadata": {},
   "outputs": [
    {
     "name": "stdout",
     "output_type": "stream",
     "text": [
      "130\n",
      "địa chỉ\n",
      "Done\n",
      "147\n",
      "Tỉnh\n",
      "Done\n",
      "125\n",
      "Tiếp Tân\n",
      "Done\n",
      "125\n",
      "nhân viên\n",
      "Done\n"
     ]
    }
   ],
   "source": [
    "wb = open_workbook(r'F:\\Signlanguage\\Jupyter\\DichNNKH\\VideoFileTranslatorList_3_checked_test_2words.xls')\n",
    "sheet = wb.sheet_by_index(0)\n",
    "sheet.cell_value(0, 0)\n",
    "column_index = 0\n",
    "column = sheet.cell_value(0, column_index)\n",
    "\n",
    "#n = 0\n",
    "\n",
    "#Test_Arr = np.array(['A', 'B', 'C', 'D'])\n",
    "\n",
    "# Path for exported data, numpy arrays\n",
    "DATA_PATH = os.path.join('MP_Data') \n",
    "\n",
    "for row in range(3, sheet.nrows):\n",
    "    \n",
    "    Vid_Link = sheet.cell_value(row, column_index + 3)\n",
    "    Letter = sheet.cell_value(row, column_index + 5)\n",
    "    \n",
    "    File_No = str(sheet.cell_value(row, column_index))\n",
    "    #Test = str(Test)\n",
    "    \n",
    "#     disallowed_characters = \".?><\"\n",
    "#     for character in disallowed_characters:\n",
    "#         Letter = Letter.replace(character, \"\")\n",
    "\n",
    "    # One video worth of data\n",
    "    no_sequences = 1\n",
    "\n",
    "    for sequence in range(no_sequences): #Loop through Videos\n",
    "            \n",
    "        npy_path = os.path.join(DATA_PATH, Letter, str(sequence))\n",
    "        os.makedirs(npy_path)\n",
    "\n",
    "        cap = cv2.VideoCapture(Vid_Link)\n",
    "\n",
    "        # Set mediapipe model \n",
    "        with mp_holistic.Holistic(min_detection_confidence=0.5, min_tracking_confidence=0.5) as holistic:\n",
    "\n",
    "\n",
    "            Frame_length = int(cap.get(cv2.CAP_PROP_FRAME_COUNT))\n",
    "            print(Frame_length)\n",
    "            print(Letter)\n",
    "\n",
    "            # Loop through video length aka sequence length\n",
    "            for frame_num in range(30):\n",
    "\n",
    "                # Read feed\n",
    "                ret, frame = cap.read()\n",
    "                \n",
    "\n",
    "                # Make detections\n",
    "                image, results = mediapipe_detection(frame, holistic)\n",
    "\n",
    "                # NEW Export keypoints\n",
    "                keypoints = extract_keypoints(results)\n",
    "                \n",
    "\n",
    "                #npy_path = os.path.join(DATA_PATH, File_No, str(sequence), str(frame_num))\n",
    "                npy_path2 = os.path.join(npy_path, str(frame_num))\n",
    "                np.save(npy_path2, keypoints)\n",
    "        \n",
    "                \n",
    "        cap.release()\n",
    "        cv2.destroyAllWindows()\n",
    "#         Test = int(Test)\n",
    "#         Test += 1\n",
    "        print(\"Done\")"
   ]
  },
  {
   "cell_type": "code",
   "execution_count": 55,
   "id": "dc3762c7",
   "metadata": {},
   "outputs": [
    {
     "name": "stdout",
     "output_type": "stream",
     "text": [
      "A\n",
      "Done\n",
      "B\n",
      "Done\n",
      "C\n",
      "Done\n",
      "D\n",
      "Done\n"
     ]
    }
   ],
   "source": [
    "wb = open_workbook(r'F:\\Signlanguage\\Jupyter\\DichNNKH\\TEst.xls')\n",
    "sheet = wb.sheet_by_index(0)\n",
    "sheet.cell_value(0, 0)\n",
    "column_index = 0\n",
    "column = sheet.cell_value(0, column_index)\n",
    "\n",
    "n = 0\n",
    "\n",
    "Test_Arr = np.array(['A', 'B', 'C', 'D'], dtype='<U6')\n",
    "\n",
    "# Path for exported data, numpy arrays\n",
    "DATA_PATH = os.path.join('MP_Data') \n",
    "\n",
    "# for Test in Test_Arr: \n",
    "#     for sequence in range(no_sequences):\n",
    "#         try: \n",
    "#             os.makedirs(os.path.join(DATA_PATH, , str(sequence)))\n",
    "#         except:\n",
    "#             pass\n",
    "\n",
    "for row in range(3, sheet.nrows):\n",
    "    \n",
    "    Vid_Link = sheet.cell_value(row, column_index + 3)\n",
    "    Letter = sheet.cell_value(row, column_index + 5)\n",
    "    \n",
    "    File_No = str(sheet.cell_value(row, column_index))\\\n",
    "    \n",
    "    # One video worth of data\n",
    "    no_sequences = 1\n",
    "\n",
    "\n",
    "    for sequence in range(no_sequences): #Loop through Videos\n",
    "        npy_path = os.path.join(DATA_PATH, Letter, str(sequence))\n",
    "        os.makedirs(npy_path)\n",
    "        cap = cv2.VideoCapture(Vid_Link)\n",
    "        # Set mediapipe model \n",
    "        with mp_holistic.Holistic(min_detection_confidence=0.5, min_tracking_confidence=0.5) as holistic:\n",
    "\n",
    "\n",
    "            Frame_length = int(cap.get(cv2.CAP_PROP_FRAME_COUNT))\n",
    "            #print(Frame_length)\n",
    "            print(Letter)\n",
    "\n",
    "            # Loop through video length aka sequence length\n",
    "            for frame_num in range(30):\n",
    "\n",
    "                # Read feed\n",
    "                ret, frame = cap.read()\n",
    "                \n",
    "\n",
    "                # Make detections\n",
    "                image, results = mediapipe_detection(frame, holistic)\n",
    "\n",
    "                # NEW Export keypoints\n",
    "                keypoints = extract_keypoints(results)\n",
    "                \n",
    "\n",
    "                #npy_path = os.path.join(DATA_PATH, File_No, str(sequence), str(frame_num))\n",
    "                npy_path2 = os.path.join(npy_path, str(frame_num))\n",
    "                np.save(npy_path2, keypoints)\n",
    "        \n",
    "                \n",
    "        cap.release()\n",
    "        cv2.destroyAllWindows()\n",
    "#         Test = int(Test)\n",
    "#         Test += 1\n",
    "        print(\"Done\")\n",
    "        "
   ]
  },
  {
   "cell_type": "markdown",
   "id": "91d797bd",
   "metadata": {},
   "source": [
    "# Preprocess Data and Create Labels and Features"
   ]
  },
  {
   "cell_type": "code",
   "execution_count": 26,
   "id": "3d0dbd4e",
   "metadata": {},
   "outputs": [],
   "source": [
    "Let_List = []\n",
    "wb = open_workbook(r'F:\\Signlanguage\\Jupyter\\DichNNKH\\VideoFileTranslatorList_3_checked_test_2words.xls')\n",
    "sheet = wb.sheet_by_index(0)\n",
    "sheet.cell_value(0, 0)\n",
    "column_index = 0\n",
    "column = sheet.cell_value(0, column_index)\n",
    "no_sequences = 1\n",
    "\n",
    "for row in range(3, sheet.nrows):\n",
    "    Let_Link = sheet.cell_value(row, column_index+5)\n",
    "    Let_List.append(Let_Link)\n",
    "Let_Arr = np.array(Let_List, dtype='<U6')\n",
    "\n",
    "label_map = {label: num for num, label in enumerate(Let_Arr)}"
   ]
  },
  {
   "cell_type": "code",
   "execution_count": 57,
   "id": "398612d1",
   "metadata": {},
   "outputs": [],
   "source": [
    "\n",
    "label_map = {label: num for num, label in enumerate(Test_Arr)}"
   ]
  },
  {
   "cell_type": "code",
   "execution_count": 47,
   "id": "a1eb468b",
   "metadata": {
    "scrolled": true
   },
   "outputs": [
    {
     "data": {
      "text/plain": [
       "(4,)"
      ]
     },
     "execution_count": 47,
     "metadata": {},
     "output_type": "execute_result"
    }
   ],
   "source": [
    "Test_Arr.shape"
   ]
  },
  {
   "cell_type": "code",
   "execution_count": 48,
   "id": "5c5649d5",
   "metadata": {},
   "outputs": [
    {
     "data": {
      "text/plain": [
       "array(['địa ch', 'Tỉnh', 'Tiếp T', 'nhân v'], dtype='<U6')"
      ]
     },
     "execution_count": 48,
     "metadata": {},
     "output_type": "execute_result"
    }
   ],
   "source": [
    "Let_Arr"
   ]
  },
  {
   "cell_type": "code",
   "execution_count": 6,
   "id": "72081f7e",
   "metadata": {},
   "outputs": [],
   "source": [
    "#This set of array is required to keep the Numpy array in shape\n",
    "\n",
    "Null_List = []\n",
    "Null_Arr = np.array(Null_List)\n",
    "\n",
    "for n in range(1662): \n",
    "    Null_Arr = np.append(Null_Arr, [0])\n",
    "    n+=1"
   ]
  },
  {
   "cell_type": "code",
   "execution_count": 58,
   "id": "34d75761",
   "metadata": {},
   "outputs": [
    {
     "data": {
      "text/plain": [
       "array(['A', 'B', 'C', 'D'], dtype='<U6')"
      ]
     },
     "execution_count": 58,
     "metadata": {},
     "output_type": "execute_result"
    }
   ],
   "source": [
    "Test_Arr"
   ]
  },
  {
   "cell_type": "code",
   "execution_count": 62,
   "id": "6c0ba159",
   "metadata": {},
   "outputs": [],
   "source": [
    "sequences, labels = [], []\n",
    "for Test in Test_Arr:\n",
    "    for sequence in range(no_sequences):\n",
    "        window = []\n",
    "        for frame_num in range(30):\n",
    "            res = np.load(os.path.join(DATA_PATH, Test, str(sequence), \"{}.npy\".format(frame_num)))\n",
    "            window.append(res)\n",
    "        sequences.append(window)\n",
    "        labels.append(label_map[Test])"
   ]
  },
  {
   "cell_type": "code",
   "execution_count": 60,
   "id": "c8d1ba49",
   "metadata": {},
   "outputs": [
    {
     "ename": "KeyError",
     "evalue": "0",
     "output_type": "error",
     "traceback": [
      "\u001b[1;31m---------------------------------------------------------------------------\u001b[0m",
      "\u001b[1;31mKeyError\u001b[0m                                  Traceback (most recent call last)",
      "Input \u001b[1;32mIn [60]\u001b[0m, in \u001b[0;36m<cell line: 10>\u001b[1;34m()\u001b[0m\n\u001b[0;32m     30\u001b[0m             window\u001b[38;5;241m.\u001b[39mappend(res)\n\u001b[0;32m     32\u001b[0m     sequences\u001b[38;5;241m.\u001b[39mappend(window)\n\u001b[1;32m---> 33\u001b[0m     labels\u001b[38;5;241m.\u001b[39mappend(\u001b[43mlabel_map\u001b[49m\u001b[43m[\u001b[49m\u001b[43mTest\u001b[49m\u001b[43m]\u001b[49m)\n\u001b[0;32m     34\u001b[0m     \u001b[38;5;66;03m#print(sequences,'1')\u001b[39;00m\n\u001b[0;32m     35\u001b[0m     \u001b[38;5;66;03m#print(labels, '2')\u001b[39;00m\n\u001b[0;32m     36\u001b[0m cap\u001b[38;5;241m.\u001b[39mrelease()\n",
      "\u001b[1;31mKeyError\u001b[0m: 0"
     ]
    }
   ],
   "source": [
    "sequences, labels = [], []\n",
    "\n",
    "DATA_PATH = os.path.join('MP_Data')\n",
    "\n",
    "sheet = wb.sheet_by_index(0)\n",
    "sheet.cell_value(0, 0)\n",
    "column_index = 0\n",
    "column = sheet.cell_value(0, column_index)\n",
    "\n",
    "for row in range(3, sheet.nrows):\n",
    "    Vid_Link = sheet.cell_value(row, column_index+3)\n",
    "    Letter = sheet.cell_value(row, column_index+5)\n",
    "    File_No = str(sheet.cell_value(row, column_index))\n",
    "\n",
    "\n",
    "    for sequence in range(no_sequences):\n",
    "        cap = cv2.VideoCapture(Vid_Link)\n",
    "        window = []\n",
    "        Frame_length = int(cap.get(cv2.CAP_PROP_FRAME_COUNT))\n",
    "\n",
    "        for frame_num in range(30):\n",
    "            try:\n",
    "                res = np.load(os.path.join(DATA_PATH, Letter, str(sequence), \"{}.npy\".format(frame_num)))\n",
    "                \n",
    "                #print(res)\n",
    "                #print(len(res))\n",
    "                window.append(res)\n",
    "                \n",
    "            except:\n",
    "                window.append(res)\n",
    "                \n",
    "        sequences.append(window)\n",
    "        labels.append(label_map[Test])\n",
    "        #print(sequences,'1')\n",
    "        #print(labels, '2')\n",
    "    cap.release()\n",
    "    cv2.destroyAllWindows()\n",
    "\n",
    "    \n",
    "        \n",
    "X = np.array(sequences)\n",
    "y = to_categorical(labels).astype(int)\n",
    "X_train, X_test, y_train, y_test = train_test_split(X, y, test_size=0.05)"
   ]
  },
  {
   "cell_type": "code",
   "execution_count": 63,
   "id": "13b737c1",
   "metadata": {},
   "outputs": [
    {
     "data": {
      "text/plain": [
       "[0, 1, 2, 3]"
      ]
     },
     "execution_count": 63,
     "metadata": {},
     "output_type": "execute_result"
    }
   ],
   "source": [
    "labels"
   ]
  },
  {
   "cell_type": "code",
   "execution_count": 64,
   "id": "399d224c",
   "metadata": {},
   "outputs": [
    {
     "data": {
      "text/plain": [
       "(3, 30, 1662)"
      ]
     },
     "execution_count": 64,
     "metadata": {},
     "output_type": "execute_result"
    }
   ],
   "source": [
    "X_train.shape"
   ]
  },
  {
   "cell_type": "code",
   "execution_count": 65,
   "id": "566a6c0b",
   "metadata": {},
   "outputs": [
    {
     "data": {
      "text/plain": [
       "(4, 30, 1662)"
      ]
     },
     "execution_count": 65,
     "metadata": {},
     "output_type": "execute_result"
    }
   ],
   "source": [
    "np.array(sequences).shape"
   ]
  },
  {
   "cell_type": "code",
   "execution_count": 21,
   "id": "1c802709",
   "metadata": {},
   "outputs": [],
   "source": [
    "#res = np.array(res)"
   ]
  },
  {
   "cell_type": "code",
   "execution_count": 66,
   "id": "45ab6356",
   "metadata": {},
   "outputs": [
    {
     "data": {
      "text/plain": [
       "()"
      ]
     },
     "execution_count": 66,
     "metadata": {},
     "output_type": "execute_result"
    }
   ],
   "source": [
    "Test.shape"
   ]
  },
  {
   "cell_type": "markdown",
   "id": "2221a0a7",
   "metadata": {},
   "source": [
    "# Build and Train LSTM Neural Network"
   ]
  },
  {
   "cell_type": "code",
   "execution_count": 67,
   "id": "66e2d0cc",
   "metadata": {
    "scrolled": true
   },
   "outputs": [],
   "source": [
    "from tensorflow.keras.models import Sequential\n",
    "from tensorflow.keras.layers import LSTM, Dense\n",
    "from tensorflow.keras.callbacks import TensorBoard\n",
    "import tensorflow as tf\n",
    "from tensorflow import keras\n",
    "\n",
    "log_dir = os.path.join('Logs')\n",
    "tb_callback = TensorBoard(log_dir=log_dir)\n",
    "\n",
    "model = Sequential()\n",
    "model.add(LSTM(64, return_sequences=True, activation='relu', input_shape=(30,1662)))\n",
    "model.add(LSTM(128, return_sequences=True, activation='relu'))\n",
    "model.add(LSTM(64, return_sequences=False, activation='relu'))\n",
    "model.add(Dense(64, activation='relu'))\n",
    "model.add(Dense(32, activation='relu'))\n",
    "model.add(Dense(Test_Arr.shape[0], activation='softmax'))\n",
    "\n",
    "#res = [.7, 0.2, 0.1]\n",
    "\n",
    "opt = tf.keras.optimizers.SGD(learning_rate = 0.25)#learning_rate = 0.01\n",
    "\n",
    "model.compile(optimizer= 'Adam', loss='categorical_crossentropy', metrics=['categorical_accuracy'])\n",
    "\n"
   ]
  },
  {
   "cell_type": "code",
   "execution_count": 37,
   "id": "9eb58526",
   "metadata": {},
   "outputs": [
    {
     "data": {
      "text/plain": [
       "array(['địa ch', 'Tỉnh', 'Tiếp T', 'nhân v'], dtype='<U6')"
      ]
     },
     "execution_count": 37,
     "metadata": {},
     "output_type": "execute_result"
    }
   ],
   "source": [
    "Let_Arr"
   ]
  },
  {
   "cell_type": "code",
   "execution_count": 68,
   "id": "d493aa82",
   "metadata": {},
   "outputs": [
    {
     "name": "stdout",
     "output_type": "stream",
     "text": [
      "Epoch 1/2000\n",
      "1/1 [==============================] - 2s 2s/step - loss: 1.3784 - categorical_accuracy: 0.3333\n",
      "Epoch 2/2000\n",
      "1/1 [==============================] - 0s 42ms/step - loss: 1.2281 - categorical_accuracy: 0.3333\n",
      "Epoch 3/2000\n",
      "1/1 [==============================] - 0s 43ms/step - loss: 3.6882 - categorical_accuracy: 0.3333\n",
      "Epoch 4/2000\n",
      "1/1 [==============================] - 0s 43ms/step - loss: 0.7917 - categorical_accuracy: 0.6667\n",
      "Epoch 5/2000\n",
      "1/1 [==============================] - 0s 43ms/step - loss: 12.8893 - categorical_accuracy: 0.3333\n",
      "Epoch 6/2000\n",
      "1/1 [==============================] - 0s 43ms/step - loss: 1.7005 - categorical_accuracy: 0.3333\n",
      "Epoch 7/2000\n",
      "1/1 [==============================] - 0s 43ms/step - loss: 1.2246 - categorical_accuracy: 0.3333\n",
      "Epoch 8/2000\n",
      "1/1 [==============================] - 0s 43ms/step - loss: 3.6770 - categorical_accuracy: 0.3333\n",
      "Epoch 9/2000\n",
      "1/1 [==============================] - 0s 44ms/step - loss: 3.0943 - categorical_accuracy: 0.3333\n",
      "Epoch 10/2000\n",
      "1/1 [==============================] - 0s 43ms/step - loss: 2.0274 - categorical_accuracy: 0.3333\n",
      "Epoch 11/2000\n",
      "1/1 [==============================] - 0s 42ms/step - loss: 2.1440 - categorical_accuracy: 0.3333\n",
      "Epoch 12/2000\n",
      "1/1 [==============================] - 0s 43ms/step - loss: 16.0469 - categorical_accuracy: 0.3333\n",
      "Epoch 13/2000\n",
      "1/1 [==============================] - 0s 43ms/step - loss: 2.6426 - categorical_accuracy: 0.3333\n",
      "Epoch 14/2000\n",
      "1/1 [==============================] - 0s 43ms/step - loss: 1.3517 - categorical_accuracy: 0.3333\n",
      "Epoch 15/2000\n",
      "1/1 [==============================] - 0s 43ms/step - loss: 8.1645 - categorical_accuracy: 0.3333\n",
      "Epoch 16/2000\n",
      "1/1 [==============================] - 0s 43ms/step - loss: 8.8382 - categorical_accuracy: 0.3333\n",
      "Epoch 17/2000\n",
      "1/1 [==============================] - 0s 43ms/step - loss: 3.4044 - categorical_accuracy: 0.3333\n",
      "Epoch 18/2000\n",
      "1/1 [==============================] - 0s 43ms/step - loss: 11.8338 - categorical_accuracy: 0.3333\n",
      "Epoch 19/2000\n",
      "1/1 [==============================] - 0s 43ms/step - loss: 21.7522 - categorical_accuracy: 0.3333\n",
      "Epoch 20/2000\n",
      "1/1 [==============================] - 0s 43ms/step - loss: 5.2865 - categorical_accuracy: 0.3333\n",
      "Epoch 21/2000\n",
      "1/1 [==============================] - 0s 43ms/step - loss: 6.2154 - categorical_accuracy: 0.3333\n",
      "Epoch 22/2000\n",
      "1/1 [==============================] - 0s 42ms/step - loss: 8.6302 - categorical_accuracy: 0.3333\n",
      "Epoch 23/2000\n",
      "1/1 [==============================] - 0s 43ms/step - loss: 3.2144 - categorical_accuracy: 0.3333\n",
      "Epoch 24/2000\n",
      "1/1 [==============================] - 0s 43ms/step - loss: 0.8942 - categorical_accuracy: 0.6667\n",
      "Epoch 25/2000\n",
      "1/1 [==============================] - 0s 43ms/step - loss: 2.1711 - categorical_accuracy: 0.6667\n",
      "Epoch 26/2000\n",
      "1/1 [==============================] - 0s 43ms/step - loss: 7.5460 - categorical_accuracy: 0.3333\n",
      "Epoch 27/2000\n",
      "1/1 [==============================] - 0s 43ms/step - loss: 4.9242 - categorical_accuracy: 0.3333\n",
      "Epoch 28/2000\n",
      "1/1 [==============================] - 0s 42ms/step - loss: 4.5971 - categorical_accuracy: 0.3333\n",
      "Epoch 29/2000\n",
      "1/1 [==============================] - 0s 43ms/step - loss: 2.7675 - categorical_accuracy: 0.3333\n",
      "Epoch 30/2000\n",
      "1/1 [==============================] - 0s 43ms/step - loss: 0.6614 - categorical_accuracy: 0.6667\n",
      "Epoch 31/2000\n",
      "1/1 [==============================] - 0s 43ms/step - loss: 1.4454 - categorical_accuracy: 0.3333\n",
      "Epoch 32/2000\n",
      "1/1 [==============================] - 0s 43ms/step - loss: 0.9685 - categorical_accuracy: 0.3333\n",
      "Epoch 33/2000\n",
      "1/1 [==============================] - 0s 43ms/step - loss: 1.8345 - categorical_accuracy: 0.0000e+00\n",
      "Epoch 34/2000\n",
      "1/1 [==============================] - 0s 43ms/step - loss: 3.0991 - categorical_accuracy: 0.3333\n",
      "Epoch 35/2000\n",
      "1/1 [==============================] - 0s 42ms/step - loss: 1.3336 - categorical_accuracy: 0.3333\n",
      "Epoch 36/2000\n",
      "1/1 [==============================] - 0s 43ms/step - loss: 0.5478 - categorical_accuracy: 0.6667\n",
      "Epoch 37/2000\n",
      "1/1 [==============================] - 0s 42ms/step - loss: 0.3342 - categorical_accuracy: 1.0000\n",
      "Epoch 38/2000\n",
      "1/1 [==============================] - 0s 43ms/step - loss: 9.2896 - categorical_accuracy: 0.6667\n",
      "Epoch 39/2000\n",
      "1/1 [==============================] - 0s 43ms/step - loss: 9.0056 - categorical_accuracy: 0.6667\n",
      "Epoch 40/2000\n",
      "1/1 [==============================] - 0s 43ms/step - loss: 7.2065 - categorical_accuracy: 0.6667\n",
      "Epoch 41/2000\n",
      "1/1 [==============================] - 0s 43ms/step - loss: 7.7753 - categorical_accuracy: 0.3333\n",
      "Epoch 42/2000\n",
      "1/1 [==============================] - 0s 43ms/step - loss: 3.2310 - categorical_accuracy: 0.6667\n",
      "Epoch 43/2000\n",
      "1/1 [==============================] - 0s 43ms/step - loss: 1.9247 - categorical_accuracy: 0.6667\n",
      "Epoch 44/2000\n",
      "1/1 [==============================] - 0s 43ms/step - loss: 1.7928 - categorical_accuracy: 0.3333\n",
      "Epoch 45/2000\n",
      "1/1 [==============================] - 0s 43ms/step - loss: 2.6757 - categorical_accuracy: 0.3333\n",
      "Epoch 46/2000\n",
      "1/1 [==============================] - 0s 42ms/step - loss: 1.2653 - categorical_accuracy: 0.6667\n",
      "Epoch 47/2000\n",
      "1/1 [==============================] - 0s 43ms/step - loss: 0.3236 - categorical_accuracy: 1.0000\n",
      "Epoch 48/2000\n",
      "1/1 [==============================] - 0s 42ms/step - loss: 0.1956 - categorical_accuracy: 1.0000\n",
      "Epoch 49/2000\n",
      "1/1 [==============================] - 0s 43ms/step - loss: 0.2310 - categorical_accuracy: 1.0000\n",
      "Epoch 50/2000\n",
      "1/1 [==============================] - 0s 43ms/step - loss: 0.1989 - categorical_accuracy: 1.0000\n",
      "Epoch 51/2000\n",
      "1/1 [==============================] - 0s 43ms/step - loss: 0.3402 - categorical_accuracy: 1.0000\n",
      "Epoch 52/2000\n",
      "1/1 [==============================] - 0s 43ms/step - loss: 0.1208 - categorical_accuracy: 1.0000\n",
      "Epoch 53/2000\n",
      "1/1 [==============================] - 0s 44ms/step - loss: 0.0182 - categorical_accuracy: 1.0000\n",
      "Epoch 54/2000\n",
      "1/1 [==============================] - 0s 43ms/step - loss: 0.0073 - categorical_accuracy: 1.0000\n",
      "Epoch 55/2000\n",
      "1/1 [==============================] - 0s 43ms/step - loss: 0.0057 - categorical_accuracy: 1.0000\n",
      "Epoch 56/2000\n",
      "1/1 [==============================] - 0s 43ms/step - loss: 0.2463 - categorical_accuracy: 0.6667\n",
      "Epoch 57/2000\n",
      "1/1 [==============================] - 0s 43ms/step - loss: 1.2881 - categorical_accuracy: 0.6667\n",
      "Epoch 58/2000\n",
      "1/1 [==============================] - 0s 43ms/step - loss: 0.0862 - categorical_accuracy: 1.0000\n",
      "Epoch 59/2000\n",
      "1/1 [==============================] - 0s 43ms/step - loss: 1.5142 - categorical_accuracy: 0.3333\n",
      "Epoch 60/2000\n",
      "1/1 [==============================] - 0s 43ms/step - loss: 4.7793 - categorical_accuracy: 0.6667\n",
      "Epoch 61/2000\n",
      "1/1 [==============================] - 0s 43ms/step - loss: 1.1728 - categorical_accuracy: 0.6667\n",
      "Epoch 62/2000\n",
      "1/1 [==============================] - 0s 43ms/step - loss: 8.6306 - categorical_accuracy: 0.3333\n",
      "Epoch 63/2000\n",
      "1/1 [==============================] - 0s 43ms/step - loss: 4.2215 - categorical_accuracy: 0.0000e+00\n",
      "Epoch 64/2000\n",
      "1/1 [==============================] - 0s 43ms/step - loss: 2.0163 - categorical_accuracy: 0.3333\n",
      "Epoch 65/2000\n",
      "1/1 [==============================] - 0s 43ms/step - loss: 2.0704 - categorical_accuracy: 0.6667\n",
      "Epoch 66/2000\n",
      "1/1 [==============================] - 0s 43ms/step - loss: 3.0969 - categorical_accuracy: 0.3333\n",
      "Epoch 67/2000\n",
      "1/1 [==============================] - 0s 43ms/step - loss: 1.8420 - categorical_accuracy: 0.3333\n",
      "Epoch 68/2000\n",
      "1/1 [==============================] - 0s 43ms/step - loss: 3.8478 - categorical_accuracy: 0.3333\n"
     ]
    },
    {
     "ename": "KeyboardInterrupt",
     "evalue": "",
     "output_type": "error",
     "traceback": [
      "\u001b[1;31m---------------------------------------------------------------------------\u001b[0m",
      "\u001b[1;31mKeyboardInterrupt\u001b[0m                         Traceback (most recent call last)",
      "Input \u001b[1;32mIn [68]\u001b[0m, in \u001b[0;36m<cell line: 1>\u001b[1;34m()\u001b[0m\n\u001b[1;32m----> 1\u001b[0m \u001b[43mmodel\u001b[49m\u001b[38;5;241;43m.\u001b[39;49m\u001b[43mfit\u001b[49m\u001b[43m(\u001b[49m\u001b[43mX_train\u001b[49m\u001b[43m,\u001b[49m\u001b[43m \u001b[49m\u001b[43my_train\u001b[49m\u001b[43m,\u001b[49m\u001b[43m \u001b[49m\u001b[43mepochs\u001b[49m\u001b[38;5;241;43m=\u001b[39;49m\u001b[38;5;241;43m2000\u001b[39;49m\u001b[43m,\u001b[49m\u001b[43m \u001b[49m\u001b[43mcallbacks\u001b[49m\u001b[38;5;241;43m=\u001b[39;49m\u001b[43m[\u001b[49m\u001b[43mtb_callback\u001b[49m\u001b[43m]\u001b[49m\u001b[43m)\u001b[49m\n",
      "File \u001b[1;32m~\\AppData\\Local\\Programs\\Python\\Python310\\lib\\site-packages\\keras\\utils\\traceback_utils.py:64\u001b[0m, in \u001b[0;36mfilter_traceback.<locals>.error_handler\u001b[1;34m(*args, **kwargs)\u001b[0m\n\u001b[0;32m     62\u001b[0m filtered_tb \u001b[38;5;241m=\u001b[39m \u001b[38;5;28;01mNone\u001b[39;00m\n\u001b[0;32m     63\u001b[0m \u001b[38;5;28;01mtry\u001b[39;00m:\n\u001b[1;32m---> 64\u001b[0m   \u001b[38;5;28;01mreturn\u001b[39;00m fn(\u001b[38;5;241m*\u001b[39margs, \u001b[38;5;241m*\u001b[39m\u001b[38;5;241m*\u001b[39mkwargs)\n\u001b[0;32m     65\u001b[0m \u001b[38;5;28;01mexcept\u001b[39;00m \u001b[38;5;167;01mException\u001b[39;00m \u001b[38;5;28;01mas\u001b[39;00m e:  \u001b[38;5;66;03m# pylint: disable=broad-except\u001b[39;00m\n\u001b[0;32m     66\u001b[0m   filtered_tb \u001b[38;5;241m=\u001b[39m _process_traceback_frames(e\u001b[38;5;241m.\u001b[39m__traceback__)\n",
      "File \u001b[1;32m~\\AppData\\Local\\Programs\\Python\\Python310\\lib\\site-packages\\keras\\engine\\training.py:1460\u001b[0m, in \u001b[0;36mModel.fit\u001b[1;34m(self, x, y, batch_size, epochs, verbose, callbacks, validation_split, validation_data, shuffle, class_weight, sample_weight, initial_epoch, steps_per_epoch, validation_steps, validation_batch_size, validation_freq, max_queue_size, workers, use_multiprocessing)\u001b[0m\n\u001b[0;32m   1457\u001b[0m   val_logs \u001b[38;5;241m=\u001b[39m {\u001b[38;5;124m'\u001b[39m\u001b[38;5;124mval_\u001b[39m\u001b[38;5;124m'\u001b[39m \u001b[38;5;241m+\u001b[39m name: val \u001b[38;5;28;01mfor\u001b[39;00m name, val \u001b[38;5;129;01min\u001b[39;00m val_logs\u001b[38;5;241m.\u001b[39mitems()}\n\u001b[0;32m   1458\u001b[0m   epoch_logs\u001b[38;5;241m.\u001b[39mupdate(val_logs)\n\u001b[1;32m-> 1460\u001b[0m \u001b[43mcallbacks\u001b[49m\u001b[38;5;241;43m.\u001b[39;49m\u001b[43mon_epoch_end\u001b[49m\u001b[43m(\u001b[49m\u001b[43mepoch\u001b[49m\u001b[43m,\u001b[49m\u001b[43m \u001b[49m\u001b[43mepoch_logs\u001b[49m\u001b[43m)\u001b[49m\n\u001b[0;32m   1461\u001b[0m training_logs \u001b[38;5;241m=\u001b[39m epoch_logs\n\u001b[0;32m   1462\u001b[0m \u001b[38;5;28;01mif\u001b[39;00m \u001b[38;5;28mself\u001b[39m\u001b[38;5;241m.\u001b[39mstop_training:\n",
      "File \u001b[1;32m~\\AppData\\Local\\Programs\\Python\\Python310\\lib\\site-packages\\keras\\callbacks.py:416\u001b[0m, in \u001b[0;36mCallbackList.on_epoch_end\u001b[1;34m(self, epoch, logs)\u001b[0m\n\u001b[0;32m    414\u001b[0m logs \u001b[38;5;241m=\u001b[39m \u001b[38;5;28mself\u001b[39m\u001b[38;5;241m.\u001b[39m_process_logs(logs)\n\u001b[0;32m    415\u001b[0m \u001b[38;5;28;01mfor\u001b[39;00m callback \u001b[38;5;129;01min\u001b[39;00m \u001b[38;5;28mself\u001b[39m\u001b[38;5;241m.\u001b[39mcallbacks:\n\u001b[1;32m--> 416\u001b[0m   \u001b[43mcallback\u001b[49m\u001b[38;5;241;43m.\u001b[39;49m\u001b[43mon_epoch_end\u001b[49m\u001b[43m(\u001b[49m\u001b[43mepoch\u001b[49m\u001b[43m,\u001b[49m\u001b[43m \u001b[49m\u001b[43mlogs\u001b[49m\u001b[43m)\u001b[49m\n",
      "File \u001b[1;32m~\\AppData\\Local\\Programs\\Python\\Python310\\lib\\site-packages\\keras\\callbacks.py:1045\u001b[0m, in \u001b[0;36mProgbarLogger.on_epoch_end\u001b[1;34m(self, epoch, logs)\u001b[0m\n\u001b[0;32m   1044\u001b[0m \u001b[38;5;28;01mdef\u001b[39;00m \u001b[38;5;21mon_epoch_end\u001b[39m(\u001b[38;5;28mself\u001b[39m, epoch, logs\u001b[38;5;241m=\u001b[39m\u001b[38;5;28;01mNone\u001b[39;00m):\n\u001b[1;32m-> 1045\u001b[0m   \u001b[38;5;28;43mself\u001b[39;49m\u001b[38;5;241;43m.\u001b[39;49m\u001b[43m_finalize_progbar\u001b[49m\u001b[43m(\u001b[49m\u001b[43mlogs\u001b[49m\u001b[43m,\u001b[49m\u001b[43m \u001b[49m\u001b[38;5;28;43mself\u001b[39;49m\u001b[38;5;241;43m.\u001b[39;49m\u001b[43m_train_step\u001b[49m\u001b[43m)\u001b[49m\n",
      "File \u001b[1;32m~\\AppData\\Local\\Programs\\Python\\Python310\\lib\\site-packages\\keras\\callbacks.py:1118\u001b[0m, in \u001b[0;36mProgbarLogger._finalize_progbar\u001b[1;34m(self, logs, counter)\u001b[0m\n\u001b[0;32m   1116\u001b[0m   \u001b[38;5;28mself\u001b[39m\u001b[38;5;241m.\u001b[39mtarget \u001b[38;5;241m=\u001b[39m counter \u001b[38;5;129;01mor\u001b[39;00m \u001b[38;5;28mself\u001b[39m\u001b[38;5;241m.\u001b[39mseen\n\u001b[0;32m   1117\u001b[0m   \u001b[38;5;28mself\u001b[39m\u001b[38;5;241m.\u001b[39mprogbar\u001b[38;5;241m.\u001b[39mtarget \u001b[38;5;241m=\u001b[39m \u001b[38;5;28mself\u001b[39m\u001b[38;5;241m.\u001b[39mtarget\n\u001b[1;32m-> 1118\u001b[0m \u001b[38;5;28;43mself\u001b[39;49m\u001b[38;5;241;43m.\u001b[39;49m\u001b[43mprogbar\u001b[49m\u001b[38;5;241;43m.\u001b[39;49m\u001b[43mupdate\u001b[49m\u001b[43m(\u001b[49m\u001b[38;5;28;43mself\u001b[39;49m\u001b[38;5;241;43m.\u001b[39;49m\u001b[43mtarget\u001b[49m\u001b[43m,\u001b[49m\u001b[43m \u001b[49m\u001b[38;5;28;43mlist\u001b[39;49m\u001b[43m(\u001b[49m\u001b[43mlogs\u001b[49m\u001b[38;5;241;43m.\u001b[39;49m\u001b[43mitems\u001b[49m\u001b[43m(\u001b[49m\u001b[43m)\u001b[49m\u001b[43m)\u001b[49m\u001b[43m,\u001b[49m\u001b[43m \u001b[49m\u001b[43mfinalize\u001b[49m\u001b[38;5;241;43m=\u001b[39;49m\u001b[38;5;28;43;01mTrue\u001b[39;49;00m\u001b[43m)\u001b[49m\n",
      "File \u001b[1;32m~\\AppData\\Local\\Programs\\Python\\Python310\\lib\\site-packages\\keras\\utils\\generic_utils.py:976\u001b[0m, in \u001b[0;36mProgbar.update\u001b[1;34m(self, current, values, finalize)\u001b[0m\n\u001b[0;32m    973\u001b[0m     info \u001b[38;5;241m+\u001b[39m\u001b[38;5;241m=\u001b[39m \u001b[38;5;124m'\u001b[39m\u001b[38;5;130;01m\\n\u001b[39;00m\u001b[38;5;124m'\u001b[39m\n\u001b[0;32m    975\u001b[0m   message \u001b[38;5;241m+\u001b[39m\u001b[38;5;241m=\u001b[39m info\n\u001b[1;32m--> 976\u001b[0m   \u001b[43mio_utils\u001b[49m\u001b[38;5;241;43m.\u001b[39;49m\u001b[43mprint_msg\u001b[49m\u001b[43m(\u001b[49m\u001b[43mmessage\u001b[49m\u001b[43m,\u001b[49m\u001b[43m \u001b[49m\u001b[43mline_break\u001b[49m\u001b[38;5;241;43m=\u001b[39;49m\u001b[38;5;28;43;01mFalse\u001b[39;49;00m\u001b[43m)\u001b[49m\n\u001b[0;32m    977\u001b[0m   message \u001b[38;5;241m=\u001b[39m \u001b[38;5;124m'\u001b[39m\u001b[38;5;124m'\u001b[39m\n\u001b[0;32m    979\u001b[0m \u001b[38;5;28;01melif\u001b[39;00m \u001b[38;5;28mself\u001b[39m\u001b[38;5;241m.\u001b[39mverbose \u001b[38;5;241m==\u001b[39m \u001b[38;5;241m2\u001b[39m:\n",
      "File \u001b[1;32m~\\AppData\\Local\\Programs\\Python\\Python310\\lib\\site-packages\\keras\\utils\\io_utils.py:78\u001b[0m, in \u001b[0;36mprint_msg\u001b[1;34m(message, line_break)\u001b[0m\n\u001b[0;32m     76\u001b[0m   \u001b[38;5;28;01melse\u001b[39;00m:\n\u001b[0;32m     77\u001b[0m     sys\u001b[38;5;241m.\u001b[39mstdout\u001b[38;5;241m.\u001b[39mwrite(message)\n\u001b[1;32m---> 78\u001b[0m   \u001b[43msys\u001b[49m\u001b[38;5;241;43m.\u001b[39;49m\u001b[43mstdout\u001b[49m\u001b[38;5;241;43m.\u001b[39;49m\u001b[43mflush\u001b[49m\u001b[43m(\u001b[49m\u001b[43m)\u001b[49m\n\u001b[0;32m     79\u001b[0m \u001b[38;5;28;01melse\u001b[39;00m:\n\u001b[0;32m     80\u001b[0m   logging\u001b[38;5;241m.\u001b[39minfo(message)\n",
      "File \u001b[1;32m~\\AppData\\Local\\Programs\\Python\\Python310\\lib\\site-packages\\ipykernel\\iostream.py:480\u001b[0m, in \u001b[0;36mOutStream.flush\u001b[1;34m(self)\u001b[0m\n\u001b[0;32m    478\u001b[0m     \u001b[38;5;28mself\u001b[39m\u001b[38;5;241m.\u001b[39mpub_thread\u001b[38;5;241m.\u001b[39mschedule(evt\u001b[38;5;241m.\u001b[39mset)\n\u001b[0;32m    479\u001b[0m     \u001b[38;5;66;03m# and give a timeout to avoid\u001b[39;00m\n\u001b[1;32m--> 480\u001b[0m     \u001b[38;5;28;01mif\u001b[39;00m \u001b[38;5;129;01mnot\u001b[39;00m \u001b[43mevt\u001b[49m\u001b[38;5;241;43m.\u001b[39;49m\u001b[43mwait\u001b[49m\u001b[43m(\u001b[49m\u001b[38;5;28;43mself\u001b[39;49m\u001b[38;5;241;43m.\u001b[39;49m\u001b[43mflush_timeout\u001b[49m\u001b[43m)\u001b[49m:\n\u001b[0;32m    481\u001b[0m         \u001b[38;5;66;03m# write directly to __stderr__ instead of warning because\u001b[39;00m\n\u001b[0;32m    482\u001b[0m         \u001b[38;5;66;03m# if this is happening sys.stderr may be the problem.\u001b[39;00m\n\u001b[0;32m    483\u001b[0m         \u001b[38;5;28mprint\u001b[39m(\u001b[38;5;124m\"\u001b[39m\u001b[38;5;124mIOStream.flush timed out\u001b[39m\u001b[38;5;124m\"\u001b[39m, file\u001b[38;5;241m=\u001b[39msys\u001b[38;5;241m.\u001b[39m__stderr__)\n\u001b[0;32m    484\u001b[0m \u001b[38;5;28;01melse\u001b[39;00m:\n",
      "File \u001b[1;32m~\\AppData\\Local\\Programs\\Python\\Python310\\lib\\threading.py:607\u001b[0m, in \u001b[0;36mEvent.wait\u001b[1;34m(self, timeout)\u001b[0m\n\u001b[0;32m    605\u001b[0m signaled \u001b[38;5;241m=\u001b[39m \u001b[38;5;28mself\u001b[39m\u001b[38;5;241m.\u001b[39m_flag\n\u001b[0;32m    606\u001b[0m \u001b[38;5;28;01mif\u001b[39;00m \u001b[38;5;129;01mnot\u001b[39;00m signaled:\n\u001b[1;32m--> 607\u001b[0m     signaled \u001b[38;5;241m=\u001b[39m \u001b[38;5;28;43mself\u001b[39;49m\u001b[38;5;241;43m.\u001b[39;49m\u001b[43m_cond\u001b[49m\u001b[38;5;241;43m.\u001b[39;49m\u001b[43mwait\u001b[49m\u001b[43m(\u001b[49m\u001b[43mtimeout\u001b[49m\u001b[43m)\u001b[49m\n\u001b[0;32m    608\u001b[0m \u001b[38;5;28;01mreturn\u001b[39;00m signaled\n",
      "File \u001b[1;32m~\\AppData\\Local\\Programs\\Python\\Python310\\lib\\threading.py:324\u001b[0m, in \u001b[0;36mCondition.wait\u001b[1;34m(self, timeout)\u001b[0m\n\u001b[0;32m    322\u001b[0m \u001b[38;5;28;01melse\u001b[39;00m:\n\u001b[0;32m    323\u001b[0m     \u001b[38;5;28;01mif\u001b[39;00m timeout \u001b[38;5;241m>\u001b[39m \u001b[38;5;241m0\u001b[39m:\n\u001b[1;32m--> 324\u001b[0m         gotit \u001b[38;5;241m=\u001b[39m \u001b[43mwaiter\u001b[49m\u001b[38;5;241;43m.\u001b[39;49m\u001b[43macquire\u001b[49m\u001b[43m(\u001b[49m\u001b[38;5;28;43;01mTrue\u001b[39;49;00m\u001b[43m,\u001b[49m\u001b[43m \u001b[49m\u001b[43mtimeout\u001b[49m\u001b[43m)\u001b[49m\n\u001b[0;32m    325\u001b[0m     \u001b[38;5;28;01melse\u001b[39;00m:\n\u001b[0;32m    326\u001b[0m         gotit \u001b[38;5;241m=\u001b[39m waiter\u001b[38;5;241m.\u001b[39macquire(\u001b[38;5;28;01mFalse\u001b[39;00m)\n",
      "\u001b[1;31mKeyboardInterrupt\u001b[0m: "
     ]
    }
   ],
   "source": [
    "model.fit(X_train, y_train, epochs=2000, callbacks=[tb_callback])"
   ]
  },
  {
   "cell_type": "code",
   "execution_count": 24,
   "id": "f0ef784f",
   "metadata": {
    "scrolled": true
   },
   "outputs": [
    {
     "name": "stdout",
     "output_type": "stream",
     "text": [
      "Model: \"sequential_2\"\n",
      "_________________________________________________________________\n",
      " Layer (type)                Output Shape              Param #   \n",
      "=================================================================\n",
      " lstm_6 (LSTM)               (None, 30, 64)            442112    \n",
      "                                                                 \n",
      " lstm_7 (LSTM)               (None, 30, 128)           98816     \n",
      "                                                                 \n",
      " lstm_8 (LSTM)               (None, 64)                49408     \n",
      "                                                                 \n",
      " dense_6 (Dense)             (None, 64)                4160      \n",
      "                                                                 \n",
      " dense_7 (Dense)             (None, 32)                2080      \n",
      "                                                                 \n",
      " dense_8 (Dense)             (None, 4)                 132       \n",
      "                                                                 \n",
      "=================================================================\n",
      "Total params: 596,708\n",
      "Trainable params: 596,708\n",
      "Non-trainable params: 0\n",
      "_________________________________________________________________\n"
     ]
    }
   ],
   "source": [
    "model.summary()"
   ]
  },
  {
   "cell_type": "code",
   "execution_count": 25,
   "id": "2fe7b0ce",
   "metadata": {
    "scrolled": true
   },
   "outputs": [
    {
     "name": "stdout",
     "output_type": "stream",
     "text": [
      "1/1 [==============================] - 0s 250ms/step\n"
     ]
    }
   ],
   "source": [
    "res = model.predict(X_test)"
   ]
  },
  {
   "cell_type": "code",
   "execution_count": 26,
   "id": "1263b57f",
   "metadata": {},
   "outputs": [
    {
     "data": {
      "text/plain": [
       "1.0"
      ]
     },
     "execution_count": 26,
     "metadata": {},
     "output_type": "execute_result"
    }
   ],
   "source": [
    "np.sum(res)"
   ]
  },
  {
   "cell_type": "code",
   "execution_count": 29,
   "id": "3af2ed67",
   "metadata": {
    "scrolled": true
   },
   "outputs": [
    {
     "ename": "IndexError",
     "evalue": "index 1 is out of bounds for axis 0 with size 1",
     "output_type": "error",
     "traceback": [
      "\u001b[1;31m---------------------------------------------------------------------------\u001b[0m",
      "\u001b[1;31mIndexError\u001b[0m                                Traceback (most recent call last)",
      "Input \u001b[1;32mIn [29]\u001b[0m, in \u001b[0;36m<cell line: 1>\u001b[1;34m()\u001b[0m\n\u001b[1;32m----> 1\u001b[0m Let_Arr[np\u001b[38;5;241m.\u001b[39margmax(\u001b[43mres\u001b[49m\u001b[43m[\u001b[49m\u001b[38;5;241;43m1\u001b[39;49m\u001b[43m]\u001b[49m)]\n",
      "\u001b[1;31mIndexError\u001b[0m: index 1 is out of bounds for axis 0 with size 1"
     ]
    }
   ],
   "source": [
    "Let_Arr[np.argmax(res[1])]"
   ]
  },
  {
   "cell_type": "code",
   "execution_count": 30,
   "id": "f11c99ef",
   "metadata": {},
   "outputs": [
    {
     "ename": "IndexError",
     "evalue": "index 1 is out of bounds for axis 0 with size 1",
     "output_type": "error",
     "traceback": [
      "\u001b[1;31m---------------------------------------------------------------------------\u001b[0m",
      "\u001b[1;31mIndexError\u001b[0m                                Traceback (most recent call last)",
      "Input \u001b[1;32mIn [30]\u001b[0m, in \u001b[0;36m<cell line: 1>\u001b[1;34m()\u001b[0m\n\u001b[1;32m----> 1\u001b[0m Let_Arr[np\u001b[38;5;241m.\u001b[39margmax(\u001b[43my_test\u001b[49m\u001b[43m[\u001b[49m\u001b[38;5;241;43m1\u001b[39;49m\u001b[43m]\u001b[49m)]\n",
      "\u001b[1;31mIndexError\u001b[0m: index 1 is out of bounds for axis 0 with size 1"
     ]
    }
   ],
   "source": [
    "Let_Arr[np.argmax(y_test[1])]"
   ]
  },
  {
   "cell_type": "code",
   "execution_count": 22,
   "id": "8b0f3f47",
   "metadata": {},
   "outputs": [],
   "source": [
    "model.save('action.h5') # Save weights"
   ]
  },
  {
   "cell_type": "code",
   "execution_count": 23,
   "id": "8a4875b7",
   "metadata": {},
   "outputs": [],
   "source": [
    "model.load_weights('action.h5')"
   ]
  },
  {
   "cell_type": "code",
   "execution_count": 24,
   "id": "3d61510b",
   "metadata": {},
   "outputs": [
    {
     "name": "stdout",
     "output_type": "stream",
     "text": [
      "1/1 [==============================] - 0s 35ms/step\n"
     ]
    }
   ],
   "source": [
    "from sklearn.metrics import multilabel_confusion_matrix, accuracy_score\n",
    "\n",
    "yhat = model.predict(X_test)\n",
    "ytrue = np.argmax(y_test, axis=1).tolist()\n",
    "yhat = np.argmax(yhat, axis=1).tolist()\n"
   ]
  },
  {
   "cell_type": "code",
   "execution_count": 25,
   "id": "3d0bd1d2",
   "metadata": {},
   "outputs": [
    {
     "data": {
      "text/plain": [
       "array([[[0., 1.],\n",
       "        [0., 0.]],\n",
       "\n",
       "       [[0., 0.],\n",
       "        [1., 0.]]])"
      ]
     },
     "execution_count": 25,
     "metadata": {},
     "output_type": "execute_result"
    }
   ],
   "source": [
    "multilabel_confusion_matrix(ytrue, yhat)"
   ]
  },
  {
   "cell_type": "code",
   "execution_count": 26,
   "id": "b9ed2304",
   "metadata": {},
   "outputs": [
    {
     "data": {
      "text/plain": [
       "0.0"
      ]
     },
     "execution_count": 26,
     "metadata": {},
     "output_type": "execute_result"
    }
   ],
   "source": [
    "accuracy_score(ytrue, yhat)"
   ]
  },
  {
   "cell_type": "code",
   "execution_count": null,
   "id": "87a03eef",
   "metadata": {},
   "outputs": [],
   "source": []
  }
 ],
 "metadata": {
  "kernelspec": {
   "display_name": "Python 3 (ipykernel)",
   "language": "python",
   "name": "python3"
  },
  "language_info": {
   "codemirror_mode": {
    "name": "ipython",
    "version": 3
   },
   "file_extension": ".py",
   "mimetype": "text/x-python",
   "name": "python",
   "nbconvert_exporter": "python",
   "pygments_lexer": "ipython3",
   "version": "3.10.5"
  }
 },
 "nbformat": 4,
 "nbformat_minor": 5
}
